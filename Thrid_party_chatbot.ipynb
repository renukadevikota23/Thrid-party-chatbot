{
  "nbformat": 4,
  "nbformat_minor": 0,
  "metadata": {
    "colab": {
      "provenance": []
    },
    "kernelspec": {
      "name": "python3",
      "display_name": "Python 3"
    },
    "language_info": {
      "name": "python"
    }
  },
  "cells": [
    {
      "cell_type": "code",
      "execution_count": 10,
      "metadata": {
        "colab": {
          "base_uri": "https://localhost:8080/"
        },
        "id": "3JMe1bQq_9xn",
        "outputId": "c4481e5e-5bd3-40da-9a00-ec5a759da207"
      },
      "outputs": [
        {
          "output_type": "stream",
          "name": "stdout",
          "text": [
            "Requirement already satisfied: requests in /usr/local/lib/python3.11/dist-packages (2.32.3)\n",
            "Requirement already satisfied: charset-normalizer<4,>=2 in /usr/local/lib/python3.11/dist-packages (from requests) (3.4.2)\n",
            "Requirement already satisfied: idna<4,>=2.5 in /usr/local/lib/python3.11/dist-packages (from requests) (3.10)\n",
            "Requirement already satisfied: urllib3<3,>=1.21.1 in /usr/local/lib/python3.11/dist-packages (from requests) (2.4.0)\n",
            "Requirement already satisfied: certifi>=2017.4.17 in /usr/local/lib/python3.11/dist-packages (from requests) (2025.4.26)\n"
          ]
        }
      ],
      "source": [
        "!pip install requests\n"
      ]
    },
    {
      "cell_type": "code",
      "source": [
        "import requests\n",
        "\n",
        "# 🔐 Replace with your actual Together.ai API key\n",
        "API_KEY = \"b80b8328b1801967363c671dfee39dca4a1eb7f9b31f491178c1e97e4603abab\"\n",
        "\n",
        "# 🌐 Together.ai API endpoint\n",
        "API_URL = \"https://api.together.xyz/v1/chat/completions\"\n",
        "\n",
        "# 🧠 Function to send user input to the LLM\n",
        "def chat_with_llm(user_input):\n",
        "    headers = {\n",
        "        \"Authorization\": f\"Bearer {API_KEY}\",\n",
        "        \"Content-Type\": \"application/json\"\n",
        "    }\n",
        "\n",
        "    payload = {\n",
        "        \"model\": \"mistralai/Mistral-7B-Instruct-v0.1\",\n",
        "        \"messages\": [\n",
        "            {\"role\": \"system\", \"content\": \"You are a helpful and intelligent assistant.\"},\n",
        "            {\"role\": \"user\", \"content\": user_input}\n",
        "        ],\n",
        "        \"temperature\": 0.7,\n",
        "        \"max_tokens\": 200\n",
        "    }\n",
        "\n",
        "    try:\n",
        "        response = requests.post(API_URL, headers=headers, json=payload)\n",
        "        response.raise_for_status()  # Raise error if status is not 2xx\n",
        "        result = response.json()\n",
        "        return result[\"choices\"][0][\"message\"][\"content\"].strip()\n",
        "\n",
        "    except Exception as e:\n",
        "        try:\n",
        "            error_detail = response.json()\n",
        "        except:\n",
        "            error_detail = response.text\n",
        "        return f\"❌ Error: {e}\\nDetails: {error_detail}\"\n",
        "\n",
        "# 🔄 Interactive loop\n",
        "def run_chatbot():\n",
        "    print(\"🤖 Chatbot is ready! Type 'exit' to quit.\")\n",
        "    while True:\n",
        "        user_input = input(\"You: \")\n",
        "        if user_input.strip().lower() in [\"exit\", \"quit\", \"bye\"]:\n",
        "            print(\"Bot: Goodbye!\")\n",
        "            break\n",
        "        response = chat_with_llm(user_input)\n",
        "        print(\"Bot:\", response)\n",
        "\n",
        "# ▶️ Run the chatbot\n",
        "if __name__ == \"__main__\":\n",
        "    run_chatbot()\n"
      ],
      "metadata": {
        "colab": {
          "base_uri": "https://localhost:8080/"
        },
        "id": "x13j6ysiArrl",
        "outputId": "b64ca0fc-df77-4392-e72e-8023e3a484e0"
      },
      "execution_count": 20,
      "outputs": [
        {
          "output_type": "stream",
          "name": "stdout",
          "text": [
            "🤖 Chatbot is ready! Type 'exit' to quit.\n",
            "You: hi\n",
            "Bot: Hello! How can I assist you today?\n",
            "You: how are you\n",
            "Bot: I am functioning well, thank you for asking. How can I assist you today?\n",
            "You: bye\n",
            "Bot: Goodbye!\n"
          ]
        }
      ]
    },
    {
      "cell_type": "code",
      "source": [],
      "metadata": {
        "id": "QCol12CKA7SC"
      },
      "execution_count": null,
      "outputs": []
    }
  ]
}